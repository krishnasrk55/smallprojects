{
 "cells": [
  {
   "cell_type": "code",
   "execution_count": 1,
   "metadata": {},
   "outputs": [],
   "source": [
    "def takePlayerInput():\n",
    "    player = \"blank\"\n",
    "    while not( player.lower() == \"r\" or player.lower() == \"p\" or player.lower() == \"s\" ):\n",
    "        \n",
    "        player = input(\"Enter your input out of  R | P | S   \")\n",
    "    return player.lower()"
   ]
  },
  {
   "cell_type": "code",
   "execution_count": null,
   "metadata": {},
   "outputs": [],
   "source": []
  },
  {
   "cell_type": "code",
   "execution_count": 5,
   "metadata": {},
   "outputs": [],
   "source": [
    "import random\n",
    "def getBotInput():\n",
    "    lst = [\"r\", \"p\", \"s\"]\n",
    "    return random.choice(lst)"
   ]
  },
  {
   "cell_type": "code",
   "execution_count": null,
   "metadata": {},
   "outputs": [],
   "source": []
  },
  {
   "cell_type": "code",
   "execution_count": 7,
   "metadata": {},
   "outputs": [],
   "source": [
    "def checkWinner(player,bot):\n",
    "    if player==\"r\" and bot == \"p\":\n",
    "        return \"bot\"\n",
    "    elif player == \"r\" and bot == 's':\n",
    "        return \"player\"\n",
    "    elif player == \"p\" and bot == 'r':\n",
    "        return \"player\"\n",
    "    elif player == \"p\" and bot == 's':\n",
    "        return \"bot\"\n",
    "    elif player == \"s\" and bot == 'r':\n",
    "        return \"bot\"\n",
    "    elif player == \"s\" and bot == 'p':\n",
    "        return \"player\"\n",
    "    elif player == \"r\" and bot == 'r':\n",
    "        return \"Draw\"\n",
    "    elif player == \"p\" and bot == 'p':\n",
    "        return \"Draw\"\n",
    "    elif player == \"s\" and bot == 's':\n",
    "        return \"Draw\"\n",
    "    else:\n",
    "        return \"Draw\""
   ]
  },
  {
   "cell_type": "code",
   "execution_count": null,
   "metadata": {},
   "outputs": [],
   "source": []
  },
  {
   "cell_type": "code",
   "execution_count": 9,
   "metadata": {},
   "outputs": [],
   "source": [
    "def rockpaperscissor():\n",
    "    endTheGame = \"n\"\n",
    "    while endTheGame.lower()!= \"y\":\n",
    "        ply = takePlayerInput()\n",
    "        bt = getBotInput()\n",
    "        winner = checkWinner(player = ply, bot = bt)\n",
    "        player_score = 0\n",
    "        bot_score = 0\n",
    "        if winner == \"player\":\n",
    "            print(\"\\n palyer wins\")\n",
    "            print(\"\")\n",
    "            print(\"bot choice is--\",bt)\n",
    "            player_score += 1\n",
    "        elif winner == \"bot\":\n",
    "            print(\"\\n bot wins\")\n",
    "            print(\"\")\n",
    "            print(\"bot choice is-- \",bt)\n",
    "            bot_score += 1\n",
    "        else:\n",
    "            player_score +=0\n",
    "            bot_score +=0\n",
    "            \n",
    "        print(\"--score board--\")\n",
    "        print(\"PLAYER = \",player_score)\n",
    "        print(\"Bot =\", bot_score)\n",
    "        \n",
    "        endTheGame = input(\"do u want to end y/n\")"
   ]
  },
  {
   "cell_type": "code",
   "execution_count": null,
   "metadata": {},
   "outputs": [],
   "source": []
  },
  {
   "cell_type": "code",
   "execution_count": null,
   "metadata": {},
   "outputs": [],
   "source": []
  },
  {
   "cell_type": "code",
   "execution_count": null,
   "metadata": {},
   "outputs": [],
   "source": []
  }
 ],
 "metadata": {
  "kernelspec": {
   "display_name": "Python 3",
   "language": "python",
   "name": "python3"
  },
  "language_info": {
   "codemirror_mode": {
    "name": "ipython",
    "version": 3
   },
   "file_extension": ".py",
   "mimetype": "text/x-python",
   "name": "python",
   "nbconvert_exporter": "python",
   "pygments_lexer": "ipython3",
   "version": "3.8.3"
  }
 },
 "nbformat": 4,
 "nbformat_minor": 4
}
